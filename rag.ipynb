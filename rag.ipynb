{
 "cells": [
  {
   "cell_type": "code",
   "execution_count": null,
   "metadata": {},
   "outputs": [],
   "source": [
    "! pip3 install langchain openai huggingface_hub python-dotenv chromadb langchain_openai langchain_chroma nltk evaluate rouge_score chroma-migrate PyPDF2 docx"
   ]
  },
  {
   "cell_type": "markdown",
   "metadata": {},
   "source": [
    "Importing Libraries"
   ]
  },
  {
   "cell_type": "code",
   "execution_count": null,
   "metadata": {},
   "outputs": [
    {
     "name": "stderr",
     "output_type": "stream",
     "text": [
      "/home/varsh/.local/lib/python3.12/site-packages/tqdm/auto.py:21: TqdmWarning: IProgress not found. Please update jupyter and ipywidgets. See https://ipywidgets.readthedocs.io/en/stable/user_install.html\n",
      "  from .autonotebook import tqdm as notebook_tqdm\n",
      "2024-12-07 12:37:32.108347: I external/local_xla/xla/tsl/cuda/cudart_stub.cc:32] Could not find cuda drivers on your machine, GPU will not be used.\n",
      "2024-12-07 12:37:32.116353: E external/local_xla/xla/stream_executor/cuda/cuda_fft.cc:477] Unable to register cuFFT factory: Attempting to register factory for plugin cuFFT when one has already been registered\n",
      "WARNING: All log messages before absl::InitializeLog() is called are written to STDERR\n",
      "E0000 00:00:1733535452.129500   27510 cuda_dnn.cc:8310] Unable to register cuDNN factory: Attempting to register factory for plugin cuDNN when one has already been registered\n",
      "E0000 00:00:1733535452.133228   27510 cuda_blas.cc:1418] Unable to register cuBLAS factory: Attempting to register factory for plugin cuBLAS when one has already been registered\n",
      "2024-12-07 12:37:32.148195: I tensorflow/core/platform/cpu_feature_guard.cc:210] This TensorFlow binary is optimized to use available CPU instructions in performance-critical operations.\n",
      "To enable the following instructions: AVX2 FMA, in other operations, rebuild TensorFlow with the appropriate compiler flags.\n",
      "[nltk_data] Downloading package punkt to /home/varsh/nltk_data...\n",
      "[nltk_data]   Package punkt is already up-to-date!\n"
     ]
    }
   ],
   "source": [
    "\n",
    "import numpy as np\n",
    "import pandas as pd\n",
    "import os\n",
    "import openai\n",
    "import sys\n",
    "import io\n",
    "import nltk\n",
    "from evaluate import load\n",
    "from nltk import word_tokenize\n",
    "import evaluate\n",
    "from PIL import Image\n",
    "from langchain_chroma import Chroma\n",
    "from huggingface_hub import hf_hub_download\n",
    "from langchain_openai import OpenAIEmbeddings\n",
    "from more_itertools import chunked\n",
    "from transformers import BlipProcessor, BlipForConditionalGeneration\n",
    "from nltk.translate.bleu_score import sentence_bleu\n",
    "\n",
    "#Langchain related libraries\n",
    "from langchain.schema import Document\n",
    "from langchain_openai import ChatOpenAI\n",
    "from langchain.chains import RetrievalQA\n",
    "from langchain.prompts import PromptTemplate\n",
    "#from langchain.vectorstores import Chroma\n",
    "from langchain.prompts import PromptTemplate\n",
    "from langchain.text_splitter import CharacterTextSplitter\n",
    "from langchain.chains import ConversationalRetrievalChain\n",
    "import os\n",
    "from langchain.embeddings import OpenAIEmbeddings\n",
    "from langchain.vectorstores import Chroma\n",
    "from langchain.text_splitter import CharacterTextSplitter\n",
    "from langchain.docstore.document import Document\n",
    "import os\n",
    "\n",
    "from chromadb.config import Settings\n",
    "import chromadb\n",
    "from chromadb.config import Settings\n",
    "import warnings\n",
    "warnings.filterwarnings(\"ignore\")\n",
    "\n",
    "from dotenv import load_dotenv, find_dotenv\n",
    "_ = load_dotenv(find_dotenv())\n",
    "OPENAI_API_KEY = 'Enter API'\n",
    "os.environ[\"OPENAI_API_KEY\"] ='Enter API'  # Add your api key here\n",
    "openai.api_key  = OPENAI_API_KEY\n",
    "\n",
    "nltk.download('punkt')\n",
    "rouge = evaluate.load('rouge')"
   ]
  },
  {
   "cell_type": "code",
   "execution_count": 7,
   "metadata": {},
   "outputs": [
    {
     "name": "stdout",
     "output_type": "stream",
     "text": [
      "['USA', 'rag.ipynb', 'Europe', 'Australia', 'UK', 'India']\n",
      "/home/varsh/Documents/UNSW/Hackathons/Tutero/Curriculum\n"
     ]
    }
   ],
   "source": [
    "print(os.listdir())\n",
    "print(os.getcwd())"
   ]
  },
  {
   "cell_type": "code",
   "execution_count": 8,
   "metadata": {},
   "outputs": [
    {
     "name": "stdout",
     "output_type": "stream",
     "text": [
      "['USA', 'Europe', 'Australia', 'UK', 'India']\n"
     ]
    }
   ],
   "source": [
    "countries = [d for d in os.listdir('.') if os.path.isdir(d)]\n",
    "print(countries)"
   ]
  },
  {
   "cell_type": "code",
   "execution_count": null,
   "metadata": {},
   "outputs": [],
   "source": [
    "import PyPDF2\n",
    "embeddings = OpenAIEmbeddings()"
   ]
  },
  {
   "cell_type": "code",
   "execution_count": null,
   "metadata": {},
   "outputs": [
    {
     "name": "stdout",
     "output_type": "stream",
     "text": [
      "Processing USA...\n"
     ]
    },
    {
     "name": "stderr",
     "output_type": "stream",
     "text": [
      "Created a chunk of size 1652, which is longer than the specified 1000\n",
      "Created a chunk of size 1181, which is longer than the specified 1000\n",
      "Created a chunk of size 1103, which is longer than the specified 1000\n",
      "Created a chunk of size 1121, which is longer than the specified 1000\n",
      "Created a chunk of size 1210, which is longer than the specified 1000\n",
      "Created a chunk of size 1053, which is longer than the specified 1000\n",
      "Created a chunk of size 1014, which is longer than the specified 1000\n",
      "Created a chunk of size 1307, which is longer than the specified 1000\n",
      "Created a chunk of size 1371, which is longer than the specified 1000\n",
      "Created a chunk of size 1163, which is longer than the specified 1000\n",
      "Created a chunk of size 1249, which is longer than the specified 1000\n",
      "Created a chunk of size 1065, which is longer than the specified 1000\n",
      "Created a chunk of size 1127, which is longer than the specified 1000\n",
      "Created a chunk of size 1237, which is longer than the specified 1000\n"
     ]
    },
    {
     "name": "stdout",
     "output_type": "stream",
     "text": [
      "Processed batch 1 for USA, 50 docs.\n",
      "Processed batch 2 for USA, 50 docs.\n",
      "Processed batch 3 for USA, 50 docs.\n",
      "Processed batch 4 for USA, 50 docs.\n",
      "Processed batch 5 for USA, 50 docs.\n",
      "Processed batch 6 for USA, 50 docs.\n",
      "Processed batch 7 for USA, 50 docs.\n",
      "Processed batch 8 for USA, 50 docs.\n",
      "Processed batch 9 for USA, 50 docs.\n",
      "Processed batch 10 for USA, 50 docs.\n",
      "Processed batch 11 for USA, 50 docs.\n",
      "Processed batch 12 for USA, 50 docs.\n",
      "Processed batch 13 for USA, 35 docs.\n",
      "Created embeddings for USA with 635 chunks total.\n",
      "Processing Europe...\n",
      "Processed batch 1 for Europe, 34 docs.\n",
      "Created embeddings for Europe with 34 chunks total.\n",
      "Processing Australia...\n"
     ]
    },
    {
     "name": "stderr",
     "output_type": "stream",
     "text": [
      "Created a chunk of size 1218, which is longer than the specified 1000\n"
     ]
    },
    {
     "name": "stdout",
     "output_type": "stream",
     "text": [
      "Processed batch 1 for Australia, 50 docs.\n",
      "Processed batch 2 for Australia, 50 docs.\n",
      "Processed batch 3 for Australia, 50 docs.\n",
      "Processed batch 4 for Australia, 50 docs.\n",
      "Processed batch 5 for Australia, 50 docs.\n",
      "Processed batch 6 for Australia, 50 docs.\n",
      "Processed batch 7 for Australia, 50 docs.\n",
      "Processed batch 8 for Australia, 50 docs.\n",
      "Processed batch 9 for Australia, 50 docs.\n",
      "Processed batch 10 for Australia, 50 docs.\n",
      "Processed batch 11 for Australia, 50 docs.\n",
      "Processed batch 12 for Australia, 50 docs.\n",
      "Processed batch 13 for Australia, 50 docs.\n",
      "Processed batch 14 for Australia, 50 docs.\n",
      "Processed batch 15 for Australia, 50 docs.\n",
      "Processed batch 16 for Australia, 50 docs.\n",
      "Processed batch 17 for Australia, 50 docs.\n",
      "Processed batch 18 for Australia, 50 docs.\n",
      "Processed batch 19 for Australia, 50 docs.\n",
      "Processed batch 20 for Australia, 50 docs.\n",
      "Processed batch 21 for Australia, 50 docs.\n",
      "Processed batch 22 for Australia, 50 docs.\n",
      "Processed batch 23 for Australia, 50 docs.\n",
      "Processed batch 24 for Australia, 50 docs.\n",
      "Processed batch 25 for Australia, 50 docs.\n",
      "Processed batch 26 for Australia, 50 docs.\n",
      "Processed batch 27 for Australia, 50 docs.\n",
      "Processed batch 28 for Australia, 50 docs.\n",
      "Processed batch 29 for Australia, 50 docs.\n",
      "Processed batch 30 for Australia, 50 docs.\n",
      "Processed batch 31 for Australia, 50 docs.\n",
      "Processed batch 32 for Australia, 50 docs.\n",
      "Processed batch 33 for Australia, 50 docs.\n",
      "Processed batch 34 for Australia, 50 docs.\n",
      "Processed batch 35 for Australia, 50 docs.\n",
      "Processed batch 36 for Australia, 50 docs.\n",
      "Processed batch 37 for Australia, 50 docs.\n",
      "Processed batch 38 for Australia, 50 docs.\n",
      "Processed batch 39 for Australia, 50 docs.\n",
      "Processed batch 40 for Australia, 50 docs.\n",
      "Processed batch 41 for Australia, 50 docs.\n",
      "Processed batch 42 for Australia, 50 docs.\n"
     ]
    },
    {
     "name": "stderr",
     "output_type": "stream",
     "text": [
      "Exception occurred invoking consumer for subscription 114ef40de6fc4cf1b77c034586831c51to topic persistent://default/default/c766d7c5-1c1d-484a-888e-5d7d5b955e8a 'utf-8' codec can't encode character '\\udc00' in position 734: surrogates not allowed\n"
     ]
    },
    {
     "name": "stdout",
     "output_type": "stream",
     "text": [
      "Processed batch 43 for Australia, 50 docs.\n",
      "Processed batch 44 for Australia, 50 docs.\n",
      "Processed batch 45 for Australia, 50 docs.\n",
      "Processed batch 46 for Australia, 50 docs.\n",
      "Processed batch 47 for Australia, 50 docs.\n",
      "Processed batch 48 for Australia, 50 docs.\n",
      "Processed batch 49 for Australia, 50 docs.\n",
      "Processed batch 50 for Australia, 50 docs.\n",
      "Processed batch 51 for Australia, 50 docs.\n",
      "Processed batch 52 for Australia, 50 docs.\n",
      "Processed batch 53 for Australia, 50 docs.\n",
      "Processed batch 54 for Australia, 50 docs.\n",
      "Processed batch 55 for Australia, 50 docs.\n",
      "Processed batch 56 for Australia, 50 docs.\n",
      "Processed batch 57 for Australia, 50 docs.\n",
      "Processed batch 58 for Australia, 50 docs.\n",
      "Processed batch 59 for Australia, 50 docs.\n",
      "Processed batch 60 for Australia, 50 docs.\n",
      "Processed batch 61 for Australia, 50 docs.\n",
      "Processed batch 62 for Australia, 50 docs.\n",
      "Processed batch 63 for Australia, 50 docs.\n",
      "Processed batch 64 for Australia, 50 docs.\n",
      "Processed batch 65 for Australia, 50 docs.\n",
      "Processed batch 66 for Australia, 50 docs.\n",
      "Processed batch 67 for Australia, 50 docs.\n",
      "Processed batch 68 for Australia, 50 docs.\n",
      "Processed batch 69 for Australia, 50 docs.\n",
      "Processed batch 70 for Australia, 50 docs.\n",
      "Processed batch 71 for Australia, 50 docs.\n",
      "Processed batch 72 for Australia, 50 docs.\n",
      "Processed batch 73 for Australia, 50 docs.\n",
      "Processed batch 74 for Australia, 50 docs.\n",
      "Processed batch 75 for Australia, 50 docs.\n",
      "Processed batch 76 for Australia, 50 docs.\n",
      "Processed batch 77 for Australia, 50 docs.\n",
      "Processed batch 78 for Australia, 50 docs.\n",
      "Processed batch 79 for Australia, 50 docs.\n",
      "Processed batch 80 for Australia, 50 docs.\n",
      "Processed batch 81 for Australia, 50 docs.\n",
      "Processed batch 82 for Australia, 50 docs.\n",
      "Processed batch 83 for Australia, 50 docs.\n",
      "Processed batch 84 for Australia, 50 docs.\n",
      "Processed batch 85 for Australia, 50 docs.\n",
      "Processed batch 86 for Australia, 50 docs.\n",
      "Processed batch 87 for Australia, 50 docs.\n",
      "Processed batch 88 for Australia, 50 docs.\n",
      "Processed batch 89 for Australia, 50 docs.\n",
      "Processed batch 90 for Australia, 50 docs.\n",
      "Processed batch 91 for Australia, 50 docs.\n",
      "Processed batch 92 for Australia, 50 docs.\n",
      "Processed batch 93 for Australia, 50 docs.\n",
      "Processed batch 94 for Australia, 50 docs.\n",
      "Processed batch 95 for Australia, 50 docs.\n",
      "Processed batch 96 for Australia, 50 docs.\n",
      "Processed batch 97 for Australia, 50 docs.\n",
      "Processed batch 98 for Australia, 50 docs.\n",
      "Processed batch 99 for Australia, 50 docs.\n",
      "Processed batch 100 for Australia, 50 docs.\n",
      "Processed batch 101 for Australia, 50 docs.\n",
      "Processed batch 102 for Australia, 50 docs.\n",
      "Processed batch 103 for Australia, 50 docs.\n",
      "Processed batch 104 for Australia, 50 docs.\n",
      "Processed batch 105 for Australia, 50 docs.\n",
      "Processed batch 106 for Australia, 50 docs.\n",
      "Processed batch 107 for Australia, 50 docs.\n",
      "Processed batch 108 for Australia, 50 docs.\n",
      "Processed batch 109 for Australia, 50 docs.\n",
      "Processed batch 110 for Australia, 50 docs.\n",
      "Processed batch 111 for Australia, 50 docs.\n",
      "Processed batch 112 for Australia, 50 docs.\n",
      "Processed batch 113 for Australia, 50 docs.\n",
      "Processed batch 114 for Australia, 50 docs.\n",
      "Processed batch 115 for Australia, 50 docs.\n",
      "Processed batch 116 for Australia, 50 docs.\n",
      "Processed batch 117 for Australia, 50 docs.\n",
      "Processed batch 118 for Australia, 50 docs.\n",
      "Processed batch 119 for Australia, 50 docs.\n",
      "Processed batch 120 for Australia, 50 docs.\n",
      "Processed batch 121 for Australia, 50 docs.\n",
      "Processed batch 122 for Australia, 50 docs.\n",
      "Processed batch 123 for Australia, 50 docs.\n",
      "Processed batch 124 for Australia, 50 docs.\n",
      "Processed batch 125 for Australia, 50 docs.\n",
      "Processed batch 126 for Australia, 50 docs.\n",
      "Processed batch 127 for Australia, 50 docs.\n",
      "Processed batch 128 for Australia, 50 docs.\n",
      "Processed batch 129 for Australia, 50 docs.\n",
      "Processed batch 130 for Australia, 50 docs.\n",
      "Processed batch 131 for Australia, 50 docs.\n",
      "Processed batch 132 for Australia, 50 docs.\n",
      "Processed batch 133 for Australia, 50 docs.\n",
      "Processed batch 134 for Australia, 50 docs.\n",
      "Processed batch 135 for Australia, 50 docs.\n",
      "Processed batch 136 for Australia, 50 docs.\n",
      "Processed batch 137 for Australia, 50 docs.\n",
      "Processed batch 138 for Australia, 50 docs.\n",
      "Processed batch 139 for Australia, 50 docs.\n",
      "Processed batch 140 for Australia, 50 docs.\n",
      "Processed batch 141 for Australia, 50 docs.\n",
      "Processed batch 142 for Australia, 50 docs.\n",
      "Processed batch 143 for Australia, 50 docs.\n",
      "Processed batch 144 for Australia, 50 docs.\n",
      "Processed batch 145 for Australia, 50 docs.\n",
      "Processed batch 146 for Australia, 50 docs.\n",
      "Processed batch 147 for Australia, 50 docs.\n",
      "Processed batch 148 for Australia, 50 docs.\n",
      "Processed batch 149 for Australia, 50 docs.\n",
      "Processed batch 150 for Australia, 50 docs.\n",
      "Processed batch 151 for Australia, 50 docs.\n",
      "Processed batch 152 for Australia, 50 docs.\n",
      "Processed batch 153 for Australia, 50 docs.\n",
      "Processed batch 154 for Australia, 50 docs.\n",
      "Processed batch 155 for Australia, 50 docs.\n",
      "Processed batch 156 for Australia, 50 docs.\n",
      "Processed batch 157 for Australia, 50 docs.\n",
      "Processed batch 158 for Australia, 50 docs.\n",
      "Processed batch 159 for Australia, 50 docs.\n",
      "Processed batch 160 for Australia, 50 docs.\n",
      "Processed batch 161 for Australia, 50 docs.\n",
      "Processed batch 162 for Australia, 50 docs.\n",
      "Processed batch 163 for Australia, 50 docs.\n",
      "Processed batch 164 for Australia, 50 docs.\n",
      "Processed batch 165 for Australia, 50 docs.\n"
     ]
    },
    {
     "name": "stderr",
     "output_type": "stream",
     "text": [
      "Exception occurred invoking consumer for subscription 114ef40de6fc4cf1b77c034586831c51to topic persistent://default/default/c766d7c5-1c1d-484a-888e-5d7d5b955e8a 'utf-8' codec can't encode character '\\udc04' in position 229: surrogates not allowed\n"
     ]
    },
    {
     "name": "stdout",
     "output_type": "stream",
     "text": [
      "Processed batch 166 for Australia, 50 docs.\n"
     ]
    },
    {
     "name": "stderr",
     "output_type": "stream",
     "text": [
      "Exception occurred invoking consumer for subscription 114ef40de6fc4cf1b77c034586831c51to topic persistent://default/default/c766d7c5-1c1d-484a-888e-5d7d5b955e8a 'utf-8' codec can't encode character '\\ude02' in position 896: surrogates not allowed\n"
     ]
    },
    {
     "name": "stdout",
     "output_type": "stream",
     "text": [
      "Processed batch 167 for Australia, 50 docs.\n"
     ]
    },
    {
     "name": "stderr",
     "output_type": "stream",
     "text": [
      "Exception occurred invoking consumer for subscription 114ef40de6fc4cf1b77c034586831c51to topic persistent://default/default/c766d7c5-1c1d-484a-888e-5d7d5b955e8a 'utf-8' codec can't encode character '\\udd98' in position 325: surrogates not allowed\n"
     ]
    },
    {
     "name": "stdout",
     "output_type": "stream",
     "text": [
      "Processed batch 168 for Australia, 50 docs.\n"
     ]
    },
    {
     "name": "stderr",
     "output_type": "stream",
     "text": [
      "Exception occurred invoking consumer for subscription 114ef40de6fc4cf1b77c034586831c51to topic persistent://default/default/c766d7c5-1c1d-484a-888e-5d7d5b955e8a 'utf-8' codec can't encode character '\\udc70' in position 606: surrogates not allowed\n"
     ]
    },
    {
     "name": "stdout",
     "output_type": "stream",
     "text": [
      "Processed batch 169 for Australia, 50 docs.\n"
     ]
    },
    {
     "name": "stderr",
     "output_type": "stream",
     "text": [
      "Exception occurred invoking consumer for subscription 114ef40de6fc4cf1b77c034586831c51to topic persistent://default/default/c766d7c5-1c1d-484a-888e-5d7d5b955e8a 'utf-8' codec can't encode character '\\udf05' in position 810: surrogates not allowed\n"
     ]
    },
    {
     "name": "stdout",
     "output_type": "stream",
     "text": [
      "Processed batch 170 for Australia, 50 docs.\n"
     ]
    },
    {
     "name": "stderr",
     "output_type": "stream",
     "text": [
      "Exception occurred invoking consumer for subscription 114ef40de6fc4cf1b77c034586831c51to topic persistent://default/default/c766d7c5-1c1d-484a-888e-5d7d5b955e8a 'utf-8' codec can't encode character '\\ude8e' in position 320: surrogates not allowed\n"
     ]
    },
    {
     "name": "stdout",
     "output_type": "stream",
     "text": [
      "Processed batch 171 for Australia, 50 docs.\n"
     ]
    },
    {
     "name": "stderr",
     "output_type": "stream",
     "text": [
      "Exception occurred invoking consumer for subscription 114ef40de6fc4cf1b77c034586831c51to topic persistent://default/default/c766d7c5-1c1d-484a-888e-5d7d5b955e8a 'utf-8' codec can't encode character '\\udebc' in position 57: surrogates not allowed\n"
     ]
    },
    {
     "name": "stdout",
     "output_type": "stream",
     "text": [
      "Processed batch 172 for Australia, 50 docs.\n"
     ]
    },
    {
     "name": "stderr",
     "output_type": "stream",
     "text": [
      "Exception occurred invoking consumer for subscription 114ef40de6fc4cf1b77c034586831c51to topic persistent://default/default/c766d7c5-1c1d-484a-888e-5d7d5b955e8a 'utf-8' codec can't encode character '\\ude71' in position 9: surrogates not allowed\n"
     ]
    },
    {
     "name": "stdout",
     "output_type": "stream",
     "text": [
      "Processed batch 173 for Australia, 50 docs.\n"
     ]
    },
    {
     "name": "stderr",
     "output_type": "stream",
     "text": [
      "Exception occurred invoking consumer for subscription 114ef40de6fc4cf1b77c034586831c51to topic persistent://default/default/c766d7c5-1c1d-484a-888e-5d7d5b955e8a 'utf-8' codec can't encode character '\\udc14' in position 844: surrogates not allowed\n"
     ]
    },
    {
     "name": "stdout",
     "output_type": "stream",
     "text": [
      "Processed batch 174 for Australia, 50 docs.\n"
     ]
    },
    {
     "name": "stderr",
     "output_type": "stream",
     "text": [
      "Exception occurred invoking consumer for subscription 114ef40de6fc4cf1b77c034586831c51to topic persistent://default/default/c766d7c5-1c1d-484a-888e-5d7d5b955e8a 'utf-8' codec can't encode character '\\udc14' in position 201: surrogates not allowed\n"
     ]
    },
    {
     "name": "stdout",
     "output_type": "stream",
     "text": [
      "Processed batch 175 for Australia, 50 docs.\n",
      "Processed batch 176 for Australia, 50 docs.\n"
     ]
    },
    {
     "name": "stderr",
     "output_type": "stream",
     "text": [
      "Exception occurred invoking consumer for subscription 114ef40de6fc4cf1b77c034586831c51to topic persistent://default/default/c766d7c5-1c1d-484a-888e-5d7d5b955e8a 'utf-8' codec can't encode character '\\udc00' in position 853: surrogates not allowed\n"
     ]
    },
    {
     "name": "stdout",
     "output_type": "stream",
     "text": [
      "Processed batch 177 for Australia, 50 docs.\n",
      "Processed batch 178 for Australia, 50 docs.\n",
      "Processed batch 179 for Australia, 50 docs.\n",
      "Processed batch 180 for Australia, 50 docs.\n",
      "Processed batch 181 for Australia, 50 docs.\n",
      "Processed batch 182 for Australia, 50 docs.\n",
      "Processed batch 183 for Australia, 50 docs.\n",
      "Processed batch 184 for Australia, 50 docs.\n",
      "Processed batch 185 for Australia, 50 docs.\n",
      "Processed batch 186 for Australia, 50 docs.\n",
      "Processed batch 187 for Australia, 50 docs.\n",
      "Processed batch 188 for Australia, 50 docs.\n",
      "Processed batch 189 for Australia, 50 docs.\n",
      "Processed batch 190 for Australia, 50 docs.\n",
      "Processed batch 191 for Australia, 50 docs.\n",
      "Processed batch 192 for Australia, 50 docs.\n",
      "Processed batch 193 for Australia, 50 docs.\n",
      "Processed batch 194 for Australia, 50 docs.\n",
      "Processed batch 195 for Australia, 50 docs.\n",
      "Processed batch 196 for Australia, 50 docs.\n",
      "Processed batch 197 for Australia, 50 docs.\n",
      "Processed batch 198 for Australia, 50 docs.\n",
      "Processed batch 199 for Australia, 50 docs.\n",
      "Processed batch 200 for Australia, 50 docs.\n",
      "Processed batch 201 for Australia, 50 docs.\n",
      "Processed batch 202 for Australia, 50 docs.\n",
      "Processed batch 203 for Australia, 50 docs.\n",
      "Processed batch 204 for Australia, 50 docs.\n",
      "Processed batch 205 for Australia, 50 docs.\n",
      "Processed batch 206 for Australia, 50 docs.\n",
      "Processed batch 207 for Australia, 50 docs.\n",
      "Processed batch 208 for Australia, 50 docs.\n",
      "Processed batch 209 for Australia, 50 docs.\n",
      "Processed batch 210 for Australia, 50 docs.\n",
      "Processed batch 211 for Australia, 50 docs.\n",
      "Processed batch 212 for Australia, 50 docs.\n",
      "Processed batch 213 for Australia, 50 docs.\n",
      "Processed batch 214 for Australia, 50 docs.\n",
      "Processed batch 215 for Australia, 50 docs.\n",
      "Processed batch 216 for Australia, 50 docs.\n",
      "Processed batch 217 for Australia, 50 docs.\n",
      "Processed batch 218 for Australia, 50 docs.\n",
      "Processed batch 219 for Australia, 50 docs.\n",
      "Processed batch 220 for Australia, 50 docs.\n",
      "Processed batch 221 for Australia, 50 docs.\n",
      "Processed batch 222 for Australia, 50 docs.\n",
      "Processed batch 223 for Australia, 50 docs.\n",
      "Processed batch 224 for Australia, 50 docs.\n",
      "Processed batch 225 for Australia, 50 docs.\n",
      "Processed batch 226 for Australia, 50 docs.\n",
      "Processed batch 227 for Australia, 50 docs.\n",
      "Processed batch 228 for Australia, 50 docs.\n",
      "Processed batch 229 for Australia, 50 docs.\n",
      "Processed batch 230 for Australia, 50 docs.\n",
      "Processed batch 231 for Australia, 50 docs.\n"
     ]
    },
    {
     "name": "stderr",
     "output_type": "stream",
     "text": [
      "Exception occurred invoking consumer for subscription 114ef40de6fc4cf1b77c034586831c51to topic persistent://default/default/c766d7c5-1c1d-484a-888e-5d7d5b955e8a 'utf-8' codec can't encode character '\\udc0d' in position 804: surrogates not allowed\n"
     ]
    },
    {
     "name": "stdout",
     "output_type": "stream",
     "text": [
      "Processed batch 232 for Australia, 50 docs.\n"
     ]
    },
    {
     "name": "stderr",
     "output_type": "stream",
     "text": [
      "Exception occurred invoking consumer for subscription 114ef40de6fc4cf1b77c034586831c51to topic persistent://default/default/c766d7c5-1c1d-484a-888e-5d7d5b955e8a 'utf-8' codec can't encode character '\\udc0d' in position 247: surrogates not allowed\n"
     ]
    },
    {
     "name": "stdout",
     "output_type": "stream",
     "text": [
      "Processed batch 233 for Australia, 50 docs.\n",
      "Processed batch 234 for Australia, 50 docs.\n",
      "Processed batch 235 for Australia, 50 docs.\n",
      "Processed batch 236 for Australia, 50 docs.\n",
      "Processed batch 237 for Australia, 50 docs.\n",
      "Processed batch 238 for Australia, 50 docs.\n",
      "Processed batch 239 for Australia, 50 docs.\n",
      "Processed batch 240 for Australia, 50 docs.\n",
      "Processed batch 241 for Australia, 50 docs.\n"
     ]
    },
    {
     "name": "stderr",
     "output_type": "stream",
     "text": [
      "Exception occurred invoking consumer for subscription 114ef40de6fc4cf1b77c034586831c51to topic persistent://default/default/c766d7c5-1c1d-484a-888e-5d7d5b955e8a 'utf-8' codec can't encode character '\\udd80' in position 239: surrogates not allowed\n"
     ]
    },
    {
     "name": "stdout",
     "output_type": "stream",
     "text": [
      "Processed batch 242 for Australia, 50 docs.\n"
     ]
    },
    {
     "name": "stderr",
     "output_type": "stream",
     "text": [
      "Exception occurred invoking consumer for subscription 114ef40de6fc4cf1b77c034586831c51to topic persistent://default/default/c766d7c5-1c1d-484a-888e-5d7d5b955e8a 'utf-8' codec can't encode character '\\udd80' in position 31: surrogates not allowed\n"
     ]
    },
    {
     "name": "stdout",
     "output_type": "stream",
     "text": [
      "Processed batch 243 for Australia, 50 docs.\n"
     ]
    },
    {
     "name": "stderr",
     "output_type": "stream",
     "text": [
      "Exception occurred invoking consumer for subscription 114ef40de6fc4cf1b77c034586831c51to topic persistent://default/default/c766d7c5-1c1d-484a-888e-5d7d5b955e8a 'utf-8' codec can't encode character '\\udd80' in position 12: surrogates not allowed\n"
     ]
    },
    {
     "name": "stdout",
     "output_type": "stream",
     "text": [
      "Processed batch 244 for Australia, 50 docs.\n",
      "Processed batch 245 for Australia, 50 docs.\n",
      "Processed batch 246 for Australia, 50 docs.\n",
      "Processed batch 247 for Australia, 50 docs.\n",
      "Processed batch 248 for Australia, 50 docs.\n",
      "Processed batch 249 for Australia, 50 docs.\n",
      "Processed batch 250 for Australia, 50 docs.\n",
      "Processed batch 251 for Australia, 50 docs.\n",
      "Processed batch 252 for Australia, 50 docs.\n",
      "Processed batch 253 for Australia, 50 docs.\n",
      "Processed batch 254 for Australia, 50 docs.\n",
      "Processed batch 255 for Australia, 50 docs.\n",
      "Processed batch 256 for Australia, 50 docs.\n",
      "Processed batch 257 for Australia, 50 docs.\n",
      "Processed batch 258 for Australia, 50 docs.\n",
      "Processed batch 259 for Australia, 50 docs.\n",
      "Processed batch 260 for Australia, 50 docs.\n",
      "Processed batch 261 for Australia, 50 docs.\n",
      "Processed batch 262 for Australia, 50 docs.\n",
      "Processed batch 263 for Australia, 50 docs.\n",
      "Processed batch 264 for Australia, 50 docs.\n",
      "Processed batch 265 for Australia, 50 docs.\n",
      "Processed batch 266 for Australia, 50 docs.\n",
      "Processed batch 267 for Australia, 50 docs.\n",
      "Processed batch 268 for Australia, 50 docs.\n",
      "Processed batch 269 for Australia, 50 docs.\n",
      "Processed batch 270 for Australia, 50 docs.\n",
      "Processed batch 271 for Australia, 50 docs.\n",
      "Processed batch 272 for Australia, 50 docs.\n",
      "Processed batch 273 for Australia, 50 docs.\n",
      "Processed batch 274 for Australia, 50 docs.\n",
      "Processed batch 275 for Australia, 50 docs.\n",
      "Processed batch 276 for Australia, 50 docs.\n",
      "Processed batch 277 for Australia, 50 docs.\n",
      "Processed batch 278 for Australia, 50 docs.\n",
      "Processed batch 279 for Australia, 50 docs.\n",
      "Processed batch 280 for Australia, 50 docs.\n",
      "Processed batch 281 for Australia, 50 docs.\n",
      "Processed batch 282 for Australia, 50 docs.\n",
      "Processed batch 283 for Australia, 50 docs.\n",
      "Processed batch 284 for Australia, 50 docs.\n",
      "Processed batch 285 for Australia, 50 docs.\n",
      "Processed batch 286 for Australia, 50 docs.\n",
      "Processed batch 287 for Australia, 50 docs.\n",
      "Processed batch 288 for Australia, 50 docs.\n",
      "Processed batch 289 for Australia, 45 docs.\n",
      "Created embeddings for Australia with 14445 chunks total.\n",
      "Processing UK...\n",
      "No text found in Curriculum_uk.pdf, skipping.\n",
      "No text found in key1-4.pdf, skipping.\n",
      "Processed batch 1 for UK, 50 docs.\n",
      "Processed batch 2 for UK, 50 docs.\n",
      "Processed batch 3 for UK, 50 docs.\n",
      "Processed batch 4 for UK, 50 docs.\n",
      "Processed batch 5 for UK, 50 docs.\n",
      "Processed batch 6 for UK, 50 docs.\n",
      "Processed batch 7 for UK, 50 docs.\n",
      "Processed batch 8 for UK, 50 docs.\n",
      "Processed batch 9 for UK, 50 docs.\n",
      "Processed batch 10 for UK, 50 docs.\n",
      "Processed batch 11 for UK, 50 docs.\n",
      "Processed batch 12 for UK, 50 docs.\n",
      "Processed batch 13 for UK, 50 docs.\n",
      "Processed batch 14 for UK, 24 docs.\n",
      "Created embeddings for UK with 674 chunks total.\n",
      "Processing India...\n",
      "Processed batch 1 for India, 50 docs.\n",
      "Processed batch 2 for India, 50 docs.\n",
      "Processed batch 3 for India, 50 docs.\n",
      "Processed batch 4 for India, 14 docs.\n",
      "Created embeddings for India with 164 chunks total.\n",
      "Processing complete!\n"
     ]
    }
   ],
   "source": [
    "pdf_extensions = ('.pdf', )\n",
    "\n",
    "chunk_size = 1000   \n",
    "chunk_overlap = 200\n",
    "batch_size = 50     \n",
    "persist_base = \"chroma_dbs\"  \n",
    "os.makedirs(persist_base, exist_ok=True)\n",
    "\n",
    "for country in countries:\n",
    "    print(f\"Processing {country}...\")\n",
    "    country_dir = os.path.join('.', country)\n",
    "\n",
    "    country_files = [\n",
    "        f for f in os.listdir(country_dir)\n",
    "        if f.lower().endswith(pdf_extensions)\n",
    "    ]\n",
    "    \n",
    "    documents = []\n",
    "    for file in country_files:\n",
    "        file_path = os.path.join(country_dir, file)\n",
    "        try:\n",
    "            with open(file_path, 'rb') as pdf_file:\n",
    "                reader = PyPDF2.PdfReader(pdf_file)\n",
    "                page_texts = []\n",
    "                for page in reader.pages:\n",
    "                    if page is not None:\n",
    "                        extracted = page.extract_text()\n",
    "                        if extracted:\n",
    "                            page_texts.append(extracted)\n",
    "                text = \"\\n\".join(page_texts)\n",
    "        except Exception as e:\n",
    "            print(f\"Error reading {file}: {e}\")\n",
    "            continue\n",
    "\n",
    "        if not text.strip():\n",
    "            print(f\"No text found in {file}, skipping.\")\n",
    "            continue\n",
    "\n",
    "        text_splitter = CharacterTextSplitter(\n",
    "            separator=\"\\n\",\n",
    "            chunk_size=chunk_size,\n",
    "            chunk_overlap=chunk_overlap,\n",
    "            length_function=len\n",
    "        )\n",
    "        chunks = text_splitter.split_text(text)\n",
    "\n",
    "        for chunk in chunks:\n",
    "            documents.append(\n",
    "                Document(\n",
    "                    page_content=chunk,\n",
    "                    metadata={\"source\": file, \"country\": country}\n",
    "                )\n",
    "            )\n",
    "\n",
    "    if not documents:\n",
    "        print(f\"No valid documents found for {country}.\")\n",
    "        continue\n",
    "\n",
    "    persist_dir = os.path.join(persist_base, f\"chroma_{country}\")\n",
    "    os.makedirs(persist_dir, exist_ok=True)\n",
    "\n",
    "    db = None\n",
    "    total_docs = len(documents)\n",
    "\n",
    "    for i in range(0, total_docs, batch_size):\n",
    "        batch = documents[i:i+batch_size]\n",
    "        try:\n",
    "            if db is None:\n",
    "                db = Chroma.from_documents(\n",
    "                    documents=batch,\n",
    "                    embedding=embeddings,\n",
    "                    persist_directory=persist_dir\n",
    "                )\n",
    "            else:\n",
    "                texts = [doc.page_content for doc in batch]\n",
    "                metas = [doc.metadata for doc in batch]\n",
    "                db.add_texts(texts, metadatas=metas)\n",
    "            \n",
    "            db.persist()\n",
    "            print(f\"Processed batch {i//batch_size+1} for {country}, {len(batch)} docs.\")\n",
    "        except Exception as e:\n",
    "            print(f\"Error processing batch for {country}: {e}\")\n",
    "            break\n",
    "\n",
    "    print(f\"Created embeddings for {country} with {total_docs} chunks total.\")\n",
    "\n",
    "print(\"Processing complete!\")\n"
   ]
  },
  {
   "cell_type": "code",
   "execution_count": null,
   "metadata": {},
   "outputs": [
    {
     "name": "stdout",
     "output_type": "stream",
     "text": [
      "a t t i t u d e s  t o w a r d s  d i ve r si t y  a n d   d i f f e r e n ce   a f f e ct   co m m u n i ca t i o n   a n d   t h e   su st a i n a b i l i t y  o f   co m m u n i t i e s\n",
      "e xa m i n i n g   cu l t u r a l l y  sp e ci f i c  t e r m s  a n d   p h r a se s,   su ch   a s η παρέα , το κέφι, Στην υγειά σου, Με γεια, Γεια\n",
      "στα χέρια σου/σας ,   d e ve l o p i n g   a p p r o p r i a t e   e xp l a n a t i o n s  f o r   t h e m   a n d   d i scu ssi n g   e q u i va l e n t   t e r m s  i n\n",
      "o t h e r   l a n g u a g e s\n",
      "Years 7–10 (Year 7 Entry) SequenceThe Australian Curriculum is licensed under Creative Commons.\n",
      "Modern Greek\n",
      "Years 7–10 (Year 7 Entry) Sequence Modern Greek\n",
      "ACARA | The Australian Curriculum (Version 8.4)\n",
      "The Australian Curriculum is licensed under Creative Commons.\n",
      "Page 2511 of 3484\n",
      "Y e a r s   7   a n d   8   A c h i e v e m e n t   S t a n d a r d s {'country': 'Australia', 'source': 'AustralianCurriculum (2).pdf'}\n",
      "w e l l   a s  d e ci m a l s,   co m m o n   f r a ct i o n s  a n d   n e g a t i ve   n u m b e r s,   f o r   e xa m p l e ,   D e u t sch l a n d   h a t   8 1 , 9   M i l l i o n e n\n",
      "E i n w o h n e r . ;   D i e   T a g e st e m p e r a t u r   l i e g t   b e i   m i n u s  3   G r a d . ;   I ch   h a b e   e i n e   H a l b sch w e st e r .\n",
      "b u i l d i n g   m e t a l a n g u a g e   t o   co m m e n t   o n   g r a m m a r   a n d   vo ca b u l a r y  ( f o r   e xa m p l e ,   N o m e n ,   V e r b e n ,   Z a h l e n ,\n",
      "F r a g e w ö r t e r ,   g r o β / kl e i n   sch r e i b e n ) ,   co m p a r i n g   w i t h   e q u i va l e n t   E n g l i sh   t e r m s\n",
      "Years 7–10 (Year 7 Entry) SequenceThe Australian Curriculum is licensed under Creative Commons.\n",
      "German\n",
      "Years 7–10 (Year 7 Entry) Sequence German\n",
      "ACARA | The Australian Curriculum (Version 8.4)\n",
      "The Australian Curriculum is licensed under Creative Commons.\n",
      "Page 1897 of 3484 {'country': 'Australia', 'source': 'AustralianCurriculum (2).pdf'}\n",
      "u si n g   t h e   G r e e k  a l p h a b e t ,   m a ki n g   co n n e ct i o n s  b e t w e e n   sp o ke n   a n d   w r i t t e n   f o r m s,   a n d   r e co g n i si n g\n",
      "si m i l a r i t i e s  a n d   d i f f e r e n ce s  t o   t h e   E n g l i sh   a l p h a b e t\n",
      "r e co g n i si n g   a cce n t u a t i o n   a n d   d i f f e r e n ce s  su ch   a s πού/που,πώς/πως, ή/η\n",
      "d e ve l o p i n g   a n d   u si n g   G r e e k  p r o n u n ci a t i o n ,   r e p r o d u ci n g   so u n d s  a n d   co m b i n a t i o n s\n",
      "u si n g   t h e   G r e e k  a l p h a b e t   f o r   sp e l l i n g   o u t   n a m e s  a n d   o t h e r   w o r d s\n",
      "Years 7–10 (Year 7 Entry) SequenceThe Australian Curriculum is licensed under Creative Commons.\n",
      "Modern Greek\n",
      "Years 7–10 (Year 7 Entry) Sequence Modern Greek\n",
      "ACARA | The Australian Curriculum (Version 8.4)\n",
      "The Australian Curriculum is licensed under Creative Commons.\n",
      "Page 2508 of 3484 {'country': 'Australia', 'source': 'AustralianCurriculum (2).pdf'}\n",
      "e ve n t s  o r   ca u se s,   f o r   e xa m p l e ,   L e   Jo u r   d e   l a   T e r r e ,   L e   C l e a n ­ U p   D a y\n",
      "u si n g   d i f f e r e n t   m o d e s  o f   p r e se n t a t i o n   t o   p r o f i l e   si g n i f i ca n t   e ve n t s,   ch a r a ct e r s  o r   p l a ce s  r e l a t e d   t o   F r e n ch\n",
      "cu l t u r e ,   h i st o r y  o r   e n vi r o n m e n t\n",
      "d e scr i b i n g   a sp e ct s  o f   t h e i r   o w n   l i f e st yl e s  t h a t   m a y  i n t e r e st   yo u n g   l e a r n e r s  o f   t h e i r   o w n   a g e   i n   F r e n ch ­\n",
      "sp e a ki n g   e n vi r o n m e n t s,   f o r   e xa m p l e ,   su r f   l i f e sa vi n g ,   sch o o l   ca m p s  o r   e xcu r si o n s,   m u si c  e ve n t s\n",
      "Years 7–10 (Year 7 Entry) SequenceThe Australian Curriculum is licensed under Creative Commons.\n",
      "French\n",
      "Years 7–10 (Year 7 Entry) Sequence French\n",
      "ACARA | The Australian Curriculum (Version 8.4)\n",
      "The Australian Curriculum is licensed under Creative Commons. {'country': 'Australia', 'source': 'AustralianCurriculum (2).pdf'}\n"
     ]
    }
   ],
   "source": [
    "from langchain.vectorstores import Chroma\n",
    "from langchain.embeddings import OpenAIEmbeddings\n",
    "\n",
    "embeddings = OpenAIEmbeddings()\n",
    "\n",
    "db = Chroma(\n",
    "    embedding_function=embeddings,\n",
    "    persist_directory=\"chroma_dbs/chroma_Australia\"\n",
    ")\n",
    "\n",
    "docs = db.similarity_search(\"Year 8 Science curriculum\", k=4)\n",
    "for d in docs:\n",
    "    print(d.page_content, d.metadata)\n"
   ]
  },
  {
   "cell_type": "code",
   "execution_count": null,
   "metadata": {},
   "outputs": [
    {
     "name": "stdout",
     "output_type": "stream",
     "text": [
      "Lesson Title: \"The Thrilling World of Cells!\"\n",
      "\n",
      "Learning Objectives:\n",
      "1. Understand the basic structure of a cell and its components.\n",
      "2. Compare and contrast animal and plant cells.\n",
      "3. Understand the role of cells in living organisms.\n",
      "4. Develop scientific inquiry skills.\n",
      "\n",
      "Warm-Up Activity:\n",
      "Begin the lesson with a short quiz game called \"Cell Jeopardy\". The students will answer questions related to basic biology and cells to refresh their prior knowledge and prepare them for the lesson ahead.\n",
      "\n",
      "Theory Explanation:\n",
      "Using an interactive slideshow presentation, explain the structure of a cell, the function of each of its parts, and the differences between animal and plant cells. Use analogies and everyday examples to make the theory more relatable and engaging.\n",
      "\n",
      "Practice Questions:\n",
      "\n",
      "Mild: Label the parts of a plant and an animal cell (Worksheet provided).\n",
      "\n",
      "Hot: Explain the function of each part of an animal and a plant cell in your own words.\n",
      "\n",
      "Spicy: Compare and contrast the structure and function of animal and plant cells. Why do you think these differences exist?\n",
      "\n",
      "Model Answers:\n",
      "1. Mild: Correctly labeled diagram of cells.\n",
      "2. Hot: Detailed explanations of each cell part function.\n",
      "3. Spicy: In-depth comparison of animal and plant cells, with logical reasoning for the differences.\n",
      "\n",
      "Gamification Ideas:\n",
      "Play \"Cell Bingo\". Each student gets a bingo card with cell components. The teacher describes a function, and students have to identify the correct component.\n",
      "\n",
      "Resources:\n",
      "1. Videos: \"The wacky history of cell theory\" - TED-Ed on YouTube.\n",
      "2. Worksheets: Cell labeling and comparison exercises.\n",
      "3. Websites: BBC Bitesize - Cells.\n",
      "\n",
      "Differentiation:\n",
      "Support: Provide labeled diagrams for struggling students during the labeling exercise. Offer additional one-on-one explanation if necessary.\n",
      "Extension: Advanced students can research and present on specialized cells, like nerve cells or red blood cells.\n",
      "\n",
      "Tutor Reflection Prompt:\n",
      "Reflect on the effectiveness of the lesson. Did the students grasp the content? Was the pace appropriate? How well did the gamification activity work? What improvements could be made for future lessons?\n"
     ]
    }
   ],
   "source": [
    "from langchain.chat_models import ChatOpenAI\n",
    "from langchain.prompts import PromptTemplate\n",
    "from langchain.chains import LLMChain\n",
    "\n",
    "llm = ChatOpenAI(temperature=0.7, model_name=\"gpt-4\")\n",
    "\n",
    "curriculum_context = \"\\n\\n\".join([d.page_content for d in docs])\n",
    "\n",
    "LESSON_PLAN_TEMPLATE = \"\"\"\n",
    "You are a teaching assistant AI. Given the following curriculum context:\n",
    "\n",
    "{curriculum_context}\n",
    "\n",
    "Create a fully personalized lesson plan for a {grade_level}-year-old student in the {country} curriculum, focusing on {subject}. \n",
    "\n",
    "The lesson plan should include:\n",
    "1. Title and learning objectives aligned with the curriculum.\n",
    "2. A warm-up activity.\n",
    "3. Theory explanation, age-appropriate and engaging.\n",
    "4. Practice questions (mild, hot, spicy) with model answers.\n",
    "5. Gamification ideas.\n",
    "6. Resources (videos, worksheets, websites).\n",
    "7. Differentiation (support for struggling students, extension for advanced).\n",
    "8. A tutor reflection prompt at the end.\n",
    "\n",
    "Now produce the lesson plan.\n",
    "\"\"\"\n",
    "\n",
    "prompt = PromptTemplate(\n",
    "    input_variables=[\"curriculum_context\", \"grade_level\", \"country\", \"subject\"],\n",
    "    template=LESSON_PLAN_TEMPLATE\n",
    ")\n",
    "\n",
    "chain = LLMChain(llm=llm, prompt=prompt)\n",
    "\n",
    "lesson_plan = chain.run(\n",
    "    curriculum_context=curriculum_context,\n",
    "    grade_level=\"14\",      \n",
    "    country=\"Australia\",   \n",
    "    subject=\"Science\"     \n",
    ")\n",
    "\n",
    "print(lesson_plan)\n"
   ]
  }
 ],
 "metadata": {
  "kernelspec": {
   "display_name": "usr",
   "language": "python",
   "name": "python3"
  },
  "language_info": {
   "codemirror_mode": {
    "name": "ipython",
    "version": 3
   },
   "file_extension": ".py",
   "mimetype": "text/x-python",
   "name": "python",
   "nbconvert_exporter": "python",
   "pygments_lexer": "ipython3",
   "version": "3.12.3"
  }
 },
 "nbformat": 4,
 "nbformat_minor": 2
}
